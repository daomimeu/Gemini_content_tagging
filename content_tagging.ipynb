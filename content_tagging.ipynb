{
 "cells": [
  {
   "cell_type": "code",
   "execution_count": 1,
   "metadata": {},
   "outputs": [],
   "source": [
    "import pipeline_funcs as fn\n",
    "import pandas as pd \n",
    "import numpy as np\n",
    "import pickle\n",
    "\n",
    "import time\n",
    "\n",
    "import utils.db_dedup as db_dedup"
   ]
  },
  {
   "cell_type": "code",
   "execution_count": null,
   "metadata": {},
   "outputs": [],
   "source": [
    "gemini_success_path = '../output/subject_line/gemini_success.parquet'\n",
    "gemini_error_path = '../output/subject_line/gemini_error.parquet'\n",
    "tagged_sl_path = '../output/subject_line/tagged_subject_line.parquet'\n",
    "tagged_raw_sl_path = '../output/subject_line/tagged_subject_line_raw.parquet'\n",
    "\n",
    "gemini_model = 'models/gemini-1.5-flash-latest'\n",
    "gemini_api_key_path = '../../../docs/api_key/xxx.json'\n",
    "service_account_json = '../../../docs/api_key/xxx.json'"
   ]
  },
  {
   "cell_type": "code",
   "execution_count": 3,
   "metadata": {},
   "outputs": [],
   "source": [
    "model = fn.config_gemini(gemini_api_key_path, gemini_model)"
   ]
  },
  {
   "cell_type": "code",
   "execution_count": 4,
   "metadata": {},
   "outputs": [],
   "source": [
    "df_subject_line_bq = fn.get_sl_from_bq(service_account_json)"
   ]
  },
  {
   "cell_type": "code",
   "execution_count": 5,
   "metadata": {},
   "outputs": [
    {
     "name": "stderr",
     "output_type": "stream",
     "text": [
      "  0%|          | 0/223 [00:00<?, ?it/s]"
     ]
    },
    {
     "name": "stderr",
     "output_type": "stream",
     "text": [
      " 13%|█▎        | 30/223 [02:36<16:14,  5.05s/it]"
     ]
    },
    {
     "name": "stdout",
     "output_type": "stream",
     "text": [
      "Retried 1 times forUpgrade ke📱yang pasti aman!\n"
     ]
    },
    {
     "name": "stderr",
     "output_type": "stream",
     "text": [
      " 20%|██        | 45/223 [04:03<17:11,  5.79s/it]"
     ]
    },
    {
     "name": "stdout",
     "output_type": "stream",
     "text": [
      "Retried 1 times forเลือกพับที่ใช่✅โดนใจทุกไลฟ์สไตล์💘\n"
     ]
    },
    {
     "name": "stderr",
     "output_type": "stream",
     "text": [
      " 41%|████      | 91/223 [08:10<11:27,  5.21s/it]"
     ]
    },
    {
     "name": "stdout",
     "output_type": "stream",
     "text": [
      "เลิกเล็ง❗️ซัมซุงขนดีลเด็ดโปร 9.9 มาให้แล้ว ลดสูงสุด 50%: Missing score, retrying...\n"
     ]
    },
    {
     "name": "stderr",
     "output_type": "stream",
     "text": [
      " 43%|████▎     | 96/223 [08:52<13:46,  6.51s/it]"
     ]
    },
    {
     "name": "stdout",
     "output_type": "stream",
     "text": [
      "Retried 1 times forช้อปเครื่องใช้ไฟฟ้าได้จุใจ!9.9ลดสุดคุ้มถึง 50%รีบเลย💰\n"
     ]
    },
    {
     "name": "stderr",
     "output_type": "stream",
     "text": [
      " 46%|████▌     | 102/223 [09:28<11:03,  5.48s/it]"
     ]
    },
    {
     "name": "stdout",
     "output_type": "stream",
     "text": [
      "Retried 1 times forWant to make the most of your Galaxy?\n"
     ]
    },
    {
     "name": "stderr",
     "output_type": "stream",
     "text": [
      " 68%|██████▊   | 151/223 [14:02<06:12,  5.18s/it]"
     ]
    },
    {
     "name": "stdout",
     "output_type": "stream",
     "text": [
      "Retried 1 times for98\" Samsung TV comes with travel voucher 🤩\n"
     ]
    },
    {
     "name": "stderr",
     "output_type": "stream",
     "text": [
      "100%|██████████| 223/223 [20:15<00:00,  5.45s/it]\n"
     ]
    },
    {
     "data": {
      "text/html": [
       "<div>\n",
       "<style scoped>\n",
       "    .dataframe tbody tr th:only-of-type {\n",
       "        vertical-align: middle;\n",
       "    }\n",
       "\n",
       "    .dataframe tbody tr th {\n",
       "        vertical-align: top;\n",
       "    }\n",
       "\n",
       "    .dataframe thead th {\n",
       "        text-align: right;\n",
       "    }\n",
       "</style>\n",
       "<table border=\"1\" class=\"dataframe\">\n",
       "  <thead>\n",
       "    <tr style=\"text-align: right;\">\n",
       "      <th></th>\n",
       "    </tr>\n",
       "  </thead>\n",
       "  <tbody>\n",
       "  </tbody>\n",
       "</table>\n",
       "</div>"
      ],
      "text/plain": [
       "Empty DataFrame\n",
       "Columns: []\n",
       "Index: []"
      ]
     },
     "execution_count": 5,
     "metadata": {},
     "output_type": "execute_result"
    }
   ],
   "source": [
    "fn.generate_responses_gemini(df_subject_line_bq, model, gemini_success_path, gemini_error_path)"
   ]
  },
  {
   "cell_type": "code",
   "execution_count": 6,
   "metadata": {},
   "outputs": [],
   "source": [
    "fn.sl_tagging(gemini_success_path, tagged_sl_path, tagged_raw_sl_path)"
   ]
  },
  {
   "cell_type": "code",
   "execution_count": 7,
   "metadata": {},
   "outputs": [
    {
     "name": "stderr",
     "output_type": "stream",
     "text": [
      "c:\\Users\\huydao\\AppData\\Local\\anaconda3\\Lib\\site-packages\\google\\cloud\\bigquery\\_pandas_helpers.py:570: UserWarning: Pyarrow could not determine the type of columns: length.\n",
      "  warnings.warn(\n"
     ]
    }
   ],
   "source": [
    "fn.upload_bq(tagged_sl_path, tagged_raw_sl_path, service_account_json)"
   ]
  },
  {
   "cell_type": "code",
   "execution_count": null,
   "metadata": {},
   "outputs": [],
   "source": [
    "# df_tagged, df_raw = pd.read_parquet('../data/bestpratice/subject_line.parquet'), pd.read_parquet('../data/bestpratice/subject_line_raw.parquet')\n",
    "\n",
    "# df_tagged = df_tagged.drop_duplicates(subset=['subject_line'])\n",
    "# df_raw = df_raw.drop_duplicates(subset=['subject_line'])\n",
    "\n",
    "# df = df_tagged.merge(df_raw, on='subject_line', how='inner')\n",
    "# df.to_parquet('temp.parquet')\n",
    "\n",
    "# fn.sl_tagging('temp.parquet', tagged_sl_path, tagged_raw_sl_path)"
   ]
  },
  {
   "cell_type": "code",
   "execution_count": null,
   "metadata": {},
   "outputs": [
    {
     "data": {
      "text/html": [
       "<div>\n",
       "<style scoped>\n",
       "    .dataframe tbody tr th:only-of-type {\n",
       "        vertical-align: middle;\n",
       "    }\n",
       "\n",
       "    .dataframe tbody tr th {\n",
       "        vertical-align: top;\n",
       "    }\n",
       "\n",
       "    .dataframe thead th {\n",
       "        text-align: right;\n",
       "    }\n",
       "</style>\n",
       "<table border=\"1\" class=\"dataframe\">\n",
       "  <thead>\n",
       "    <tr style=\"text-align: right;\">\n",
       "      <th></th>\n",
       "      <th>subject_line</th>\n",
       "      <th>curiosity</th>\n",
       "      <th>urgency</th>\n",
       "      <th>value</th>\n",
       "      <th>relevance</th>\n",
       "      <th>emotion</th>\n",
       "      <th>specificity</th>\n",
       "      <th>product_features</th>\n",
       "    </tr>\n",
       "  </thead>\n",
       "  <tbody>\n",
       "    <tr>\n",
       "      <th>5</th>\n",
       "      <td>We're counting down...</td>\n",
       "      <td>3</td>\n",
       "      <td>2</td>\n",
       "      <td>0</td>\n",
       "      <td>0</td>\n",
       "      <td>2</td>\n",
       "      <td>1</td>\n",
       "      <td>None</td>\n",
       "    </tr>\n",
       "    <tr>\n",
       "      <th>11</th>\n",
       "      <td>We're counting down...</td>\n",
       "      <td>4</td>\n",
       "      <td>3</td>\n",
       "      <td>0</td>\n",
       "      <td>0</td>\n",
       "      <td>2</td>\n",
       "      <td>1</td>\n",
       "      <td></td>\n",
       "    </tr>\n",
       "    <tr>\n",
       "      <th>190</th>\n",
       "      <td>Up to RM400* e-vouchers for grabs. T&amp;Cs apply.</td>\n",
       "      <td>4</td>\n",
       "      <td>3</td>\n",
       "      <td>3</td>\n",
       "      <td>0</td>\n",
       "      <td>2</td>\n",
       "      <td>2</td>\n",
       "      <td></td>\n",
       "    </tr>\n",
       "    <tr>\n",
       "      <th>195</th>\n",
       "      <td>Up to RM400* e-vouchers for grabs. T&amp;Cs apply.</td>\n",
       "      <td>4</td>\n",
       "      <td>3</td>\n",
       "      <td>4</td>\n",
       "      <td>0</td>\n",
       "      <td>2</td>\n",
       "      <td>2</td>\n",
       "      <td></td>\n",
       "    </tr>\n",
       "    <tr>\n",
       "      <th>217</th>\n",
       "      <td>It takes less than 5 mins!</td>\n",
       "      <td>3</td>\n",
       "      <td>2</td>\n",
       "      <td>0</td>\n",
       "      <td>0</td>\n",
       "      <td>1</td>\n",
       "      <td>1</td>\n",
       "      <td></td>\n",
       "    </tr>\n",
       "    <tr>\n",
       "      <th>226</th>\n",
       "      <td>It takes less than 5 mins!</td>\n",
       "      <td>4</td>\n",
       "      <td>3</td>\n",
       "      <td>0</td>\n",
       "      <td>0</td>\n",
       "      <td>2</td>\n",
       "      <td>1</td>\n",
       "      <td></td>\n",
       "    </tr>\n",
       "  </tbody>\n",
       "</table>\n",
       "</div>"
      ],
      "text/plain": [
       "                                       subject_line  curiosity  urgency  \\\n",
       "5                            We're counting down...          3        2   \n",
       "11                           We're counting down...          4        3   \n",
       "190  Up to RM400* e-vouchers for grabs. T&Cs apply.          4        3   \n",
       "195  Up to RM400* e-vouchers for grabs. T&Cs apply.          4        3   \n",
       "217                      It takes less than 5 mins!          3        2   \n",
       "226                      It takes less than 5 mins!          4        3   \n",
       "\n",
       "     value  relevance  emotion  specificity product_features  \n",
       "5        0          0        2            1             None  \n",
       "11       0          0        2            1                   \n",
       "190      3          0        2            2                   \n",
       "195      4          0        2            2                   \n",
       "217      0          0        1            1                   \n",
       "226      0          0        2            1                   "
      ]
     },
     "execution_count": 10,
     "metadata": {},
     "output_type": "execute_result"
    }
   ],
   "source": [
    "# df_tagged[df_tagged.subject_line.duplicated(keep=False)]\n",
    "\n",
    "df = pd.read_parquet('uniqued.parquet')\n",
    "\n",
    "lst = []\n",
    "for start in range(500,800,100):\n",
    "    print(start)\n",
    "    if start == 700:\n",
    "        lst.append(df.iloc[start:,:])\n",
    "    else:\n",
    "        lst.append(df.iloc[start:start+100,:])\n",
    "\n",
    "with open('my_list.pkl', 'rb') as f:\n",
    "    reopened_lst = pickle.load(f)\n",
    "\n",
    "for i, chunk in enumerate(reopened_lst):\n",
    "  print(chunk)\n",
    "  try:\n",
    "    fn.generate_responses_gemini(chunk, model, gemini_success_path, gemini_error_path)\n",
    "    time.sleep(20)  \n",
    "    fn.sl_tagging(gemini_success_path, tagged_sl_path, tagged_raw_sl_path)\n",
    "    time.sleep(20)  \n",
    "    fn.upload_bq(tagged_sl_path, tagged_raw_sl_path, service_account_json)\n",
    "    time.sleep(50)  \n",
    "   \n",
    "  except Exception as e:\n",
    "    print(\"Error processing chunk {i}: {e}\")\n",
    "\n",
    "\n",
    "df = pd.read_parquet('uniqued.parquet')\n",
    "\n",
    "lst = []\n",
    "for start in range(100,800,100):\n",
    "    print(start)\n",
    "    if start == 700:\n",
    "        lst.append(df.iloc[start:,:])\n",
    "    else:\n",
    "        lst.append(df.iloc[start:start+100,:])\n",
    "\n",
    "with open('my_list.pkl', 'wb') as f:\n",
    "    pickle.dump(lst, f)\n"
   ]
  },
  {
   "cell_type": "code",
   "execution_count": null,
   "metadata": {},
   "outputs": [],
   "source": []
  }
 ],
 "metadata": {
  "kernelspec": {
   "display_name": "base",
   "language": "python",
   "name": "python3"
  },
  "language_info": {
   "codemirror_mode": {
    "name": "ipython",
    "version": 3
   },
   "file_extension": ".py",
   "mimetype": "text/x-python",
   "name": "python",
   "nbconvert_exporter": "python",
   "pygments_lexer": "ipython3",
   "version": "3.11.7"
  }
 },
 "nbformat": 4,
 "nbformat_minor": 2
}
